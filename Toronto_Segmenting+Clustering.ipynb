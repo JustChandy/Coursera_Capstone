{
  "nbformat": 4,
  "nbformat_minor": 0,
  "metadata": {
    "colab": {
      "name": "Toronto_Segmenting+Clustering.ipynb",
      "provenance": [],
      "collapsed_sections": [],
      "authorship_tag": "ABX9TyNoegscbUbmuUkl5yBciVlz"
    },
    "kernelspec": {
      "name": "python3",
      "display_name": "Python 3"
    }
  },
  "cells": [
    {
      "cell_type": "markdown",
      "metadata": {
        "id": "8oSAgVBk1qMi"
      },
      "source": [
        "PArt 1: Web Scraping "
      ]
    },
    {
      "cell_type": "code",
      "metadata": {
        "id": "EFmvJQSY1jJG"
      },
      "source": [
        "import requests\r\n",
        "import json\r\n",
        "from bs4 import BeautifulSoup\r\n",
        "import re\r\n",
        "import csv\r\n",
        "import pandas as pd\r\n",
        "\r\n",
        "#Store the URL for the wikipedia page\r\n",
        "URL = 'https://en.wikipedia.org/wiki/List_of_postal_codes_of_Canada:_M'\r\n",
        "\r\n",
        "#Get the HTML text for the URL\r\n",
        "resp = requests.get(URL)\r\n",
        "html_code = resp.text\r\n"
      ],
      "execution_count": 15,
      "outputs": []
    },
    {
      "cell_type": "code",
      "metadata": {
        "id": "h5_TzMfm3Sh7"
      },
      "source": [
        "#Instantiate html parser object\r\n",
        "soup = BeautifulSoup(html_code)\r\n",
        "\r\n",
        "#Get the first table on the webpage and all rows within it \r\n",
        "table = soup.find_all('table')[0]\r\n",
        "table_rows = table.find_all('tr')"
      ],
      "execution_count": 16,
      "outputs": []
    },
    {
      "cell_type": "code",
      "metadata": {
        "id": "uztLqpTn4DN2"
      },
      "source": [
        "#Add rows values to a list and convert it into a data frame\r\n",
        "l = []\r\n",
        "for tr in table_rows:\r\n",
        "    td = tr.find_all('td')\r\n",
        "    row = [tr.text for tr in td]\r\n",
        "    l.append(row)\r\n",
        "df = pd.DataFrame(l, columns=['Postal Code', 'Borough', 'Neighbourhood'])\r\n",
        "df = df.iloc[1:]\r\n",
        "df = df.replace({'\\n':''}, regex=True)"
      ],
      "execution_count": 38,
      "outputs": []
    },
    {
      "cell_type": "code",
      "metadata": {
        "colab": {
          "base_uri": "https://localhost:8080/"
        },
        "id": "WWYxEnHa90R5",
        "outputId": "7f04349b-db89-47bc-86ad-4ee9ab4ae99d"
      },
      "source": [
        "df.shape"
      ],
      "execution_count": 58,
      "outputs": [
        {
          "output_type": "execute_result",
          "data": {
            "text/plain": [
              "(180, 3)"
            ]
          },
          "metadata": {
            "tags": []
          },
          "execution_count": 58
        }
      ]
    },
    {
      "cell_type": "code",
      "metadata": {
        "colab": {
          "base_uri": "https://localhost:8080/",
          "height": 206
        },
        "id": "eNvQT9xHE5fr",
        "outputId": "fcf7222f-ed7e-410c-9bba-cdaa8fa0f871"
      },
      "source": [
        "df.head()"
      ],
      "execution_count": 59,
      "outputs": [
        {
          "output_type": "execute_result",
          "data": {
            "text/html": [
              "<div>\n",
              "<style scoped>\n",
              "    .dataframe tbody tr th:only-of-type {\n",
              "        vertical-align: middle;\n",
              "    }\n",
              "\n",
              "    .dataframe tbody tr th {\n",
              "        vertical-align: top;\n",
              "    }\n",
              "\n",
              "    .dataframe thead th {\n",
              "        text-align: right;\n",
              "    }\n",
              "</style>\n",
              "<table border=\"1\" class=\"dataframe\">\n",
              "  <thead>\n",
              "    <tr style=\"text-align: right;\">\n",
              "      <th></th>\n",
              "      <th>Postal Code</th>\n",
              "      <th>Borough</th>\n",
              "      <th>Neighbourhood</th>\n",
              "    </tr>\n",
              "  </thead>\n",
              "  <tbody>\n",
              "    <tr>\n",
              "      <th>1</th>\n",
              "      <td>M1A</td>\n",
              "      <td>Not assigned</td>\n",
              "      <td>Not assigned</td>\n",
              "    </tr>\n",
              "    <tr>\n",
              "      <th>2</th>\n",
              "      <td>M2A</td>\n",
              "      <td>Not assigned</td>\n",
              "      <td>Not assigned</td>\n",
              "    </tr>\n",
              "    <tr>\n",
              "      <th>3</th>\n",
              "      <td>M3A</td>\n",
              "      <td>North York</td>\n",
              "      <td>Parkwoods</td>\n",
              "    </tr>\n",
              "    <tr>\n",
              "      <th>4</th>\n",
              "      <td>M4A</td>\n",
              "      <td>North York</td>\n",
              "      <td>Victoria Village</td>\n",
              "    </tr>\n",
              "    <tr>\n",
              "      <th>5</th>\n",
              "      <td>M5A</td>\n",
              "      <td>Downtown Toronto</td>\n",
              "      <td>Regent Park, Harbourfront</td>\n",
              "    </tr>\n",
              "  </tbody>\n",
              "</table>\n",
              "</div>"
            ],
            "text/plain": [
              "  Postal Code           Borough              Neighbourhood\n",
              "1         M1A      Not assigned               Not assigned\n",
              "2         M2A      Not assigned               Not assigned\n",
              "3         M3A        North York                  Parkwoods\n",
              "4         M4A        North York           Victoria Village\n",
              "5         M5A  Downtown Toronto  Regent Park, Harbourfront"
            ]
          },
          "metadata": {
            "tags": []
          },
          "execution_count": 59
        }
      ]
    }
  ]
}